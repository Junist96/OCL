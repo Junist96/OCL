{
 "cells": [
  {
   "cell_type": "code",
   "execution_count": 1,
   "metadata": {},
   "outputs": [],
   "source": [
    "import numpy as n\n",
    "from sklearn import svm\n",
    "from sklearn.metrics import accuracy_score\n",
    "from sklearn.metrics import confusion_matrix\n",
    "import matplotlib.pyplot as graph"
   ]
  },
  {
   "cell_type": "code",
   "execution_count": 2,
   "metadata": {},
   "outputs": [],
   "source": [
    "# Function to read the data from file\n",
    "def read_data(par_filename):\n",
    "    vl = []\n",
    "    with open(par_filename,\"r\") as file_lines:\n",
    "        for line in file_lines:\n",
    "            vl.append(map(float,line.split()))\n",
    "    file_lines.close()\n",
    "    return vl;"
   ]
  },
  {
   "cell_type": "code",
   "execution_count": 3,
   "metadata": {},
   "outputs": [],
   "source": [
    "# Function to read the lables from file\n",
    "def read_labels(vl):\n",
    "    ll = []\n",
    "    for r in vl:\n",
    "        ll.append(int(r[12]))\n",
    "    return ll;"
   ]
  },
  {
   "cell_type": "code",
   "execution_count": 4,
   "metadata": {},
   "outputs": [],
   "source": [
    "# Function to read the features from file\n",
    "def read_features(vl):\n",
    "    lp = vl\n",
    "    for r in lp:\n",
    "        r.remove(r[12])\n",
    "    return lp;"
   ]
  },
  {
   "cell_type": "code",
   "execution_count": 5,
   "metadata": {},
   "outputs": [],
   "source": [
    "# Function to compute the classification using SVM\n",
    "def compute_SVC(train_f,train_l):\n",
    "    C=1.0\n",
    "    cache_size=200\n",
    "    class_weight=None\n",
    "    coef0=0.0\n",
    "    decision_function_shape=None\n",
    "    degree=3\n",
    "    gamma='auto'\n",
    "    kernel='rbf'\n",
    "    max_iter=-1\n",
    "    probability=False\n",
    "    random_state=None\n",
    "    shrinking=True\n",
    "    tol=0.001\n",
    "    verbose=False\n",
    "    c = svm.SVC(kernel='linear')\n",
    "    c.fit(train_f,train_l)\n",
    "    return c;"
   ]
  },
  {
   "cell_type": "code",
   "execution_count": 6,
   "metadata": {},
   "outputs": [],
   "source": [
    "# Function to calculate the accuracy\n",
    "def compute_accuracy(test_f,test_l,c):\n",
    "    pred = c.predict(test_f)\n",
    "    #print pred\n",
    "    pred_accu = accuracy_score(test_l,pred)\n",
    "    return pred_accu;"
   ]
  },
  {
   "cell_type": "code",
   "execution_count": 7,
   "metadata": {},
   "outputs": [],
   "source": [
    "# Function to compute the confusion matrix\n",
    "def compute_confusion_matrix(test_f,test_l,c):\n",
    "    pred = c.predict(test_f)\n",
    "    x = confusion_matrix(test_l,pred)\n",
    "    return x;"
   ]
  },
  {
   "cell_type": "code",
   "execution_count": 8,
   "metadata": {},
   "outputs": [],
   "source": [
    "# Function to compute the error\n",
    "def compute_error(t_f,t_l,c):\n",
    "    err = c.score(t_f,t_l)\n",
    "    return err;"
   ]
  },
  {
   "cell_type": "code",
   "execution_count": 9,
   "metadata": {},
   "outputs": [],
   "source": [
    "# Function to split the data based on percentage\n",
    "def split_data(f,percent):\n",
    "    tot = len(f)\n",
    "    req_xt = int((float(percent)/100)*(tot))\n",
    "    req_yt = tot - req_xt\n",
    "    xt_get = []\n",
    "    for s in range(0,(req_xt-1)):\n",
    "        xt_get.append(f[s])\n",
    "    yt_get = []\n",
    "    for d in range(req_xt,tot):\n",
    "        yt_get.append(f[d])\n",
    "    xyt = []\n",
    "    xyt.append(xt_get)\n",
    "    xyt.append(yt_get)\n",
    "    return xyt;"
   ]
  },
  {
   "cell_type": "code",
   "execution_count": 10,
   "metadata": {},
   "outputs": [],
   "source": [
    "# Function to plot the training and testing errors\n",
    "def compute_plot(filename):\n",
    "\ttest_plt = []\n",
    "\ttrain_plt = []\n",
    "\tpercent_plt = []\n",
    "\twith open(filename,\"r\") as lines_in_file:\n",
    "\t\tfor c1 in lines_in_file:\n",
    "\t\t\ttest_plt.append(c1.split()[0])\n",
    "\t\t\ttrain_plt.append(c1.split()[1])\n",
    "\t\t\tpercent_plt.append(c1.split()[2])\n",
    "\tfig = graph.figure()\n",
    "\tax = fig.add_subplot(111)\n",
    "\tgraph.plot(percent_plt, test_plt, 'bo', label='Training Error')\n",
    "\tgraph.plot(percent_plt, train_plt, 'ro', label='Testing Error')\n",
    "\tgraph.plot(percent_plt, test_plt, 'b')\n",
    "\tgraph.plot(percent_plt, train_plt, 'r')\n",
    "\tax.set_xlabel('Percentage of Taining data')\n",
    "\tax.set_ylabel('Percentage of Error')\n",
    "\tgraph.legend( loc='upper left', numpoints = 1 )\n",
    "\tgraph.title(\"% Error Vs % training Data\")\n",
    "\tgraph.show()\n",
    "\treturn;"
   ]
  },
  {
   "cell_type": "code",
   "execution_count": 14,
   "metadata": {},
   "outputs": [
    {
     "ename": "TabError",
     "evalue": "inconsistent use of tabs and spaces in indentation (<ipython-input-14-31c5b263eb58>, line 26)",
     "output_type": "error",
     "traceback": [
      "\u001b[1;36m  File \u001b[1;32m\"<ipython-input-14-31c5b263eb58>\"\u001b[1;36m, line \u001b[1;32m26\u001b[0m\n\u001b[1;33m    conf_mat = compute_confusion_matrix(read_data_features_train,read_data_labels_train,model_svc);\u001b[0m\n\u001b[1;37m                                                                                                   ^\u001b[0m\n\u001b[1;31mTabError\u001b[0m\u001b[1;31m:\u001b[0m inconsistent use of tabs and spaces in indentation\n"
     ]
    }
   ],
   "source": [
    "# Starting of the flow of program\n",
    "read_data = read_data(\"plrx.txt\");\n",
    "read_data_labels = read_labels(read_data);\n",
    "\n",
    "read_data_features = read_features(read_data);\n",
    "\n",
    "input_percent = [40, 50, 60, 70, 80, 90]\n",
    "file_created1 = open('Generated_accuracy_table.dat','w')\n",
    "file_created2 = open('Generated_error_table.dat','w')\n",
    "for pri in range(0,len(input_percent)):\n",
    "\tx1 = split_data(read_data_features,input_percent[pri]);\n",
    "\tx2 = split_data(read_data_labels,input_percent[pri]);\n",
    "\tread_data_labels_train = x2[0];\n",
    "\tread_data_features_train = x1[0];\n",
    "\tread_data_labels_test = x2[1];\n",
    "\tread_data_features_test = x1[1];\n",
    "\tmodel_svc = compute_SVC(read_data_features_train,read_data_labels_train);\n",
    "        #print \"train\"\n",
    "\taccu_percent_train = compute_accuracy(read_data_features_train,read_data_labels_train,model_svc)*100;\n",
    "        #print \"test\"\n",
    "\taccu_percent_test = compute_accuracy(read_data_features_test,read_data_labels_test,model_svc)*100;\n",
    "\ttrain_err = compute_error(read_data_features_train,read_data_labels_train,model_svc);\n",
    "\ttest_err = compute_error(read_data_features_test,read_data_labels_test,model_svc);\n",
    "\tfile_created1.write(\"%f %f %f \\n\" %(accu_percent_train,accu_percent_test,input_percent[pri]))\n",
    "\tfile_created2.write(\"%f %f %f \\n\" %(train_err,test_err,input_percent[pri]))\n",
    "        conf_mat = compute_confusion_matrix(read_data_features_train,read_data_labels_train,model_svc);\n",
    "        print conf_mat\n",
    "        conf_mat1 = compute_confusion_matrix(read_data_features_test,read_data_labels_test,model_svc);\n",
    "        print conf_mat1\n",
    "file_created1.close()\n",
    "file_created2.close()"
   ]
  },
  {
   "cell_type": "code",
   "execution_count": 12,
   "metadata": {},
   "outputs": [
    {
     "ename": "TabError",
     "evalue": "inconsistent use of tabs and spaces in indentation (<ipython-input-12-e5f2891a0641>, line 17)",
     "output_type": "error",
     "traceback": [
      "\u001b[1;36m  File \u001b[1;32m\"<ipython-input-12-e5f2891a0641>\"\u001b[1;36m, line \u001b[1;32m17\u001b[0m\n\u001b[1;33m    conf_mat = compute_confusion_matrix(read_data_features_train,read_data_labels_train,model_svc);\u001b[0m\n\u001b[1;37m                                                                                                   ^\u001b[0m\n\u001b[1;31mTabError\u001b[0m\u001b[1;31m:\u001b[0m inconsistent use of tabs and spaces in indentation\n"
     ]
    }
   ],
   "source": []
  },
  {
   "cell_type": "code",
   "execution_count": null,
   "metadata": {},
   "outputs": [],
   "source": []
  }
 ],
 "metadata": {
  "kernelspec": {
   "display_name": "Python 3",
   "language": "python",
   "name": "python3"
  },
  "language_info": {
   "codemirror_mode": {
    "name": "ipython",
    "version": 3
   },
   "file_extension": ".py",
   "mimetype": "text/x-python",
   "name": "python",
   "nbconvert_exporter": "python",
   "pygments_lexer": "ipython3",
   "version": "3.6.6"
  }
 },
 "nbformat": 4,
 "nbformat_minor": 2
}
