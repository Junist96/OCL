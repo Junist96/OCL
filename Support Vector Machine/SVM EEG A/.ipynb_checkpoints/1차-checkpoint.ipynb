{
 "cells": [
  {
   "cell_type": "code",
   "execution_count": 1,
   "metadata": {},
   "outputs": [],
   "source": [
    "import numpy as n\n",
    "from sklearn import svm\n",
    "from sklearn.metrics import accuracy_score\n",
    "from sklearn.metrics import confusion_matrix\n",
    "import matplotlib.pyplot as graph"
   ]
  },
  {
   "cell_type": "code",
   "execution_count": 2,
   "metadata": {},
   "outputs": [],
   "source": [
    "# Function to read the features from file\n",
    "def read_features(par_filename):\n",
    "    vl = []\n",
    "    with open(par_filename,\"r\") as file_lines:\n",
    "        #features = [[float(i) for i in line.split()] for line in file_lines]\n",
    "        for line in file_lines:\n",
    "            vl.append(line.split())\n",
    "    file_lines.close()\n",
    "    for r in vl:\n",
    "        del r[12]\n",
    "    return vl;"
   ]
  },
  {
   "cell_type": "code",
   "execution_count": 3,
   "metadata": {},
   "outputs": [],
   "source": [
    "# Function to read the lables from file\n",
    "def read_labels(par_filename):\n",
    "    vl = []\n",
    "    with open(par_filename,\"r\") as file_lines:\n",
    "        for line in file_lines:\n",
    "            vl.append(line.split())\n",
    "    file_lines.close()\n",
    "    ll = []\n",
    "    for r in vl:\n",
    "        ll.append(r[12])\n",
    "    return ll;"
   ]
  },
  {
   "cell_type": "code",
   "execution_count": 4,
   "metadata": {},
   "outputs": [],
   "source": [
    "# Function to compute the classification using SVM\n",
    "def compute_SVC(train_f,train_l):\n",
    "    C=1.0\n",
    "    cache_size=200\n",
    "    class_weight=None\n",
    "    coef0=0.0\n",
    "    decision_function_shape=None\n",
    "    degree=3\n",
    "    gamma='auto'\n",
    "    kernel='rbf'\n",
    "    max_iter=-1\n",
    "    probability=False\n",
    "    random_state=None\n",
    "    shrinking=True\n",
    "    tol=0.001\n",
    "    verbose=False\n",
    "    c = svm.SVC(kernel='linear')\n",
    "    c.fit(train_f,train_l)\n",
    "    return c;"
   ]
  },
  {
   "cell_type": "code",
   "execution_count": 5,
   "metadata": {},
   "outputs": [],
   "source": [
    "#Function to calculate the accuracy\n",
    "def compute_accuracy(test_f,test_l,c):\n",
    "    pred = c.predict(test_f)\n",
    "    print(pred)\n",
    "    pred_accu = accuracy_score(test_l,pred)\n",
    "    \n",
    "    return pred_accu;"
   ]
  },
  {
   "cell_type": "code",
   "execution_count": 6,
   "metadata": {},
   "outputs": [],
   "source": [
    "# Function to compute the confusion matrix\n",
    "def compute_confusion_matrix(test_f,test_l,c):\n",
    "    pred = c.predict(test_f)\n",
    "    x = confusion_matrix(test_l,pred)\n",
    "    return x;\n"
   ]
  },
  {
   "cell_type": "code",
   "execution_count": 7,
   "metadata": {},
   "outputs": [
    {
     "name": "stdout",
     "output_type": "stream",
     "text": [
      "['1.0000000e+000' '1.0000000e+000' '1.0000000e+000' '1.0000000e+000'\n",
      " '1.0000000e+000' '1.0000000e+000' '1.0000000e+000' '1.0000000e+000'\n",
      " '1.0000000e+000' '1.0000000e+000' '1.0000000e+000' '1.0000000e+000'\n",
      " '1.0000000e+000' '1.0000000e+000' '1.0000000e+000' '1.0000000e+000'\n",
      " '1.0000000e+000' '1.0000000e+000' '1.0000000e+000' '1.0000000e+000'\n",
      " '1.0000000e+000' '1.0000000e+000' '1.0000000e+000' '1.0000000e+000'\n",
      " '1.0000000e+000' '1.0000000e+000' '1.0000000e+000' '1.0000000e+000'\n",
      " '1.0000000e+000' '1.0000000e+000' '1.0000000e+000' '1.0000000e+000'\n",
      " '1.0000000e+000' '1.0000000e+000' '1.0000000e+000' '1.0000000e+000'\n",
      " '1.0000000e+000' '1.0000000e+000' '1.0000000e+000' '1.0000000e+000'\n",
      " '1.0000000e+000' '1.0000000e+000' '1.0000000e+000' '1.0000000e+000'\n",
      " '1.0000000e+000' '1.0000000e+000' '1.0000000e+000' '1.0000000e+000'\n",
      " '1.0000000e+000' '1.0000000e+000' '1.0000000e+000' '1.0000000e+000'\n",
      " '1.0000000e+000' '1.0000000e+000' '1.0000000e+000' '1.0000000e+000'\n",
      " '1.0000000e+000' '1.0000000e+000' '1.0000000e+000' '1.0000000e+000'\n",
      " '1.0000000e+000' '1.0000000e+000' '1.0000000e+000' '1.0000000e+000'\n",
      " '1.0000000e+000' '1.0000000e+000' '1.0000000e+000' '1.0000000e+000'\n",
      " '1.0000000e+000' '1.0000000e+000' '1.0000000e+000' '1.0000000e+000'\n",
      " '1.0000000e+000' '1.0000000e+000' '1.0000000e+000' '1.0000000e+000'\n",
      " '1.0000000e+000' '1.0000000e+000' '1.0000000e+000' '1.0000000e+000'\n",
      " '1.0000000e+000' '1.0000000e+000' '1.0000000e+000' '1.0000000e+000'\n",
      " '1.0000000e+000' '1.0000000e+000' '1.0000000e+000' '1.0000000e+000'\n",
      " '1.0000000e+000' '1.0000000e+000' '1.0000000e+000' '1.0000000e+000'\n",
      " '1.0000000e+000' '1.0000000e+000' '1.0000000e+000' '1.0000000e+000'\n",
      " '1.0000000e+000' '1.0000000e+000' '1.0000000e+000' '1.0000000e+000'\n",
      " '1.0000000e+000' '1.0000000e+000' '1.0000000e+000' '1.0000000e+000'\n",
      " '1.0000000e+000' '1.0000000e+000' '1.0000000e+000' '1.0000000e+000'\n",
      " '1.0000000e+000' '1.0000000e+000' '1.0000000e+000' '1.0000000e+000'\n",
      " '1.0000000e+000' '1.0000000e+000' '1.0000000e+000' '1.0000000e+000'\n",
      " '1.0000000e+000' '1.0000000e+000' '1.0000000e+000' '1.0000000e+000'\n",
      " '1.0000000e+000' '1.0000000e+000' '1.0000000e+000' '1.0000000e+000'\n",
      " '1.0000000e+000' '1.0000000e+000' '1.0000000e+000' '1.0000000e+000'\n",
      " '1.0000000e+000' '1.0000000e+000' '1.0000000e+000' '1.0000000e+000'\n",
      " '1.0000000e+000' '1.0000000e+000' '1.0000000e+000' '1.0000000e+000'\n",
      " '1.0000000e+000' '1.0000000e+000' '1.0000000e+000' '1.0000000e+000'\n",
      " '1.0000000e+000' '1.0000000e+000' '1.0000000e+000' '1.0000000e+000'\n",
      " '1.0000000e+000' '1.0000000e+000' '1.0000000e+000' '1.0000000e+000'\n",
      " '1.0000000e+000' '1.0000000e+000' '1.0000000e+000' '1.0000000e+000'\n",
      " '1.0000000e+000' '1.0000000e+000' '1.0000000e+000' '1.0000000e+000'\n",
      " '1.0000000e+000' '1.0000000e+000' '1.0000000e+000' '1.0000000e+000'\n",
      " '1.0000000e+000' '1.0000000e+000' '1.0000000e+000' '1.0000000e+000'\n",
      " '1.0000000e+000' '1.0000000e+000' '1.0000000e+000' '1.0000000e+000'\n",
      " '1.0000000e+000' '1.0000000e+000' '1.0000000e+000' '1.0000000e+000'\n",
      " '1.0000000e+000' '1.0000000e+000' '1.0000000e+000' '1.0000000e+000'\n",
      " '1.0000000e+000' '1.0000000e+000' '1.0000000e+000' '1.0000000e+000'\n",
      " '1.0000000e+000' '1.0000000e+000']\n",
      "Accuracy obtained over the whole training set is 71.428571 % .\n"
     ]
    }
   ],
   "source": [
    "# Starting of the flow of program\n",
    "read_data_features_train = read_features(\"plrx.txt\");\n",
    "read_data_labels_train = read_labels(\"plrx.txt\");\n",
    "\n",
    "model_svc = compute_SVC(read_data_features_train,read_data_labels_train);\n",
    "\n",
    "accu_percent = compute_accuracy(read_data_features_train,read_data_labels_train,model_svc)*100;\n",
    "\n",
    "print(\"Accuracy obtained over the whole training set is %0.6f %% .\" % (accu_percent))\n",
    "\n",
    "#conf_mat = compute_confusion_matrix(read_data_features_train,read_data_labels_train,model_svc);\n",
    "#print conf_mat"
   ]
  },
  {
   "cell_type": "code",
   "execution_count": null,
   "metadata": {},
   "outputs": [],
   "source": []
  }
 ],
 "metadata": {
  "kernelspec": {
   "display_name": "Python 3",
   "language": "python",
   "name": "python3"
  },
  "language_info": {
   "codemirror_mode": {
    "name": "ipython",
    "version": 3
   },
   "file_extension": ".py",
   "mimetype": "text/x-python",
   "name": "python",
   "nbconvert_exporter": "python",
   "pygments_lexer": "ipython3",
   "version": "3.6.6"
  }
 },
 "nbformat": 4,
 "nbformat_minor": 2
}
