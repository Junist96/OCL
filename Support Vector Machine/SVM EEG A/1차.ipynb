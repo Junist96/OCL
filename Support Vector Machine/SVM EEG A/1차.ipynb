{
 "cells": [
  {
   "cell_type": "code",
   "execution_count": 1,
   "metadata": {},
   "outputs": [],
   "source": [
    "import numpy as n\n",
    "from sklearn import svm\n",
    "from sklearn.metrics import accuracy_score\n",
    "from sklearn.metrics import confusion_matrix\n",
    "import matplotlib.pyplot as graph"
   ]
  },
  {
   "cell_type": "code",
   "execution_count": 2,
   "metadata": {},
   "outputs": [],
   "source": [
    "# Function to read the data from file\n",
    "def read_data(par_filename):\n",
    "\tvl = []\n",
    "\twith open(par_filename,\"r\") as file_lines:\n",
    "\t\tfor line in file_lines:\n",
    "\t\t\tvl.append(map(float,line.split()))\n",
    "\tfile_lines.close()\n",
    "\treturn vl;"
   ]
  },
  {
   "cell_type": "code",
   "execution_count": 3,
   "metadata": {},
   "outputs": [],
   "source": [
    "# Function to read the lables from file\n",
    "def read_labels(vl):\n",
    "\tll = []\n",
    "\tfor r in vl:\n",
    "\t\tll.append(int(r[12]))\n",
    "\treturn ll;"
   ]
  },
  {
   "cell_type": "code",
   "execution_count": 4,
   "metadata": {},
   "outputs": [],
   "source": [
    "# Function to read the features from file\n",
    "def read_features(vl):\n",
    "\tlp = vl\n",
    "\tfor r in lp:\n",
    "\t\tr.remove(r[12])\n",
    "\treturn lp;"
   ]
  },
  {
   "cell_type": "code",
   "execution_count": 5,
   "metadata": {},
   "outputs": [],
   "source": [
    "# Function to compute the classification using SVM\n",
    "def compute_SVC(train_f,train_l):\n",
    "\tC=1.0\n",
    "\tcache_size=200\n",
    "\tclass_weight=None\n",
    "\tcoef0=0.0\n",
    "\tdecision_function_shape=None\n",
    "\tdegree=3\n",
    "\tgamma='auto'\n",
    "\tkernel='rbf'\n",
    "\tmax_iter=-1\n",
    "\tprobability=False\n",
    "\trandom_state=None\n",
    "\tshrinking=True\n",
    "\ttol=0.001\n",
    "\tverbose=False\n",
    "\tc = svm.SVC(kernel='linear')\n",
    "\tc.fit(train_f,train_l)\n",
    "\treturn c;"
   ]
  },
  {
   "cell_type": "code",
   "execution_count": 6,
   "metadata": {},
   "outputs": [],
   "source": [
    "# Function to calculate the accuracy\n",
    "def compute_accuracy(test_f,test_l,c):\n",
    "\tpred = c.predict(test_f)\n",
    "        #print pred\n",
    "\tpred_accu = accuracy_score(test_l,pred)\n",
    "\treturn pred_accu;"
   ]
  },
  {
   "cell_type": "code",
   "execution_count": 7,
   "metadata": {},
   "outputs": [],
   "source": [
    "# Function to compute the confusion matrix\n",
    "def compute_confusion_matrix(test_f,test_l,c):\n",
    "\tpred = c.predict(test_f)\n",
    "\tx = confusion_matrix(test_l,pred)\n",
    "\treturn x;"
   ]
  },
  {
   "cell_type": "code",
   "execution_count": 8,
   "metadata": {},
   "outputs": [],
   "source": [
    "# Function to compute the error\n",
    "def compute_error(t_f,t_l,c):\n",
    "\terr = c.score(t_f,t_l)\n",
    "\treturn err;"
   ]
  },
  {
   "cell_type": "code",
   "execution_count": 9,
   "metadata": {},
   "outputs": [],
   "source": [
    "# Function to split the data based on percentage\n",
    "def split_data(f,percent):\n",
    "\ttot = len(f)\n",
    "\treq_xt = int((float(percent)/100)*(tot))\n",
    "\treq_yt = tot - req_xt\n",
    "\txt_get = []\n",
    "\tfor s in range(0,(req_xt-1)):\n",
    "\t\txt_get.append(f[s])\n",
    "\tyt_get = []\n",
    "\tfor d in range(req_xt,tot):\n",
    "\t\tyt_get.append(f[d])\n",
    "\txyt = []\n",
    "\txyt.append(xt_get)\n",
    "\txyt.append(yt_get)\n",
    "\treturn xyt;"
   ]
  },
  {
   "cell_type": "code",
   "execution_count": 10,
   "metadata": {},
   "outputs": [],
   "source": [
    "# Function to plot the training and testing errors\n",
    "def compute_plot(filename):\n",
    "\ttest_plt = []\n",
    "\ttrain_plt = []\n",
    "\tpercent_plt = []\n",
    "\twith open(filename,\"r\") as lines_in_file:\n",
    "\t\tfor c1 in lines_in_file:\n",
    "\t\t\ttest_plt.append(c1.split()[0])\n",
    "\t\t\ttrain_plt.append(c1.split()[1])\n",
    "\t\t\tpercent_plt.append(c1.split()[2])\n",
    "\tfig = graph.figure()\n",
    "\tax = fig.add_subplot(111)\n",
    "\tgraph.plot(percent_plt, test_plt, 'bo', label='Training Error')\n",
    "\tgraph.plot(percent_plt, train_plt, 'ro', label='Testing Error')\n",
    "\tgraph.plot(percent_plt, test_plt, 'b')\n",
    "\tgraph.plot(percent_plt, train_plt, 'r')\n",
    "\tax.set_xlabel('Percentage of Taining data')\n",
    "\tax.set_ylabel('Percentage of Error')\n",
    "\tgraph.legend( loc='upper left', numpoints = 1 )\n",
    "\tgraph.title(\"% Error Vs % training Data\")\n",
    "\tgraph.show()\n",
    "\treturn;"
   ]
  },
  {
   "cell_type": "code",
   "execution_count": 15,
   "metadata": {},
   "outputs": [
    {
     "ename": "TabError",
     "evalue": "inconsistent use of tabs and spaces in indentation (<ipython-input-15-82dd501c1c03>, line 24)",
     "output_type": "error",
     "traceback": [
      "\u001b[1;36m  File \u001b[1;32m\"<ipython-input-15-82dd501c1c03>\"\u001b[1;36m, line \u001b[1;32m24\u001b[0m\n\u001b[1;33m    conf_mat = compute_confusion_matrix(read_data_features_train,read_data_labels_train,model_svc);\u001b[0m\n\u001b[1;37m                                                                                                   ^\u001b[0m\n\u001b[1;31mTabError\u001b[0m\u001b[1;31m:\u001b[0m inconsistent use of tabs and spaces in indentation\n"
     ]
    }
   ],
   "source": [
    "# Starting of the flow of program\n",
    "read_data = read_data(\"plrx.txt\");\n",
    "read_data_labels = read_labels(read_data);\n",
    "read_data_features = read_features(read_data);\n",
    "input_percent = [40, 50, 60, 70, 80, 90]\n",
    "file_created1 = open('Generated_accuracy_table.dat','w')\n",
    "file_created2 = open('Generated_error_table.dat','w')\n",
    "\n",
    "for pri in range(0,len(input_percent)):\n",
    "\tx1 = split_data(read_data_features,input_percent[pri]);\n",
    "\tx2 = split_data(read_data_labels,input_percent[pri]);\n",
    "\tread_data_labels_train = x2[0];\n",
    "\tread_data_features_train = x1[0];\n",
    "\tread_data_labels_test = x2[1];\n",
    "\tread_data_features_test = x1[1];\n",
    "\tmodel_svc = compute_SVC(read_data_features_train,read_data_labels_train);\n",
    "        #print \"train\"\n",
    "\taccu_percent_train = compute_accuracy(read_data_features_train,read_data_labels_train,model_svc)*100;\n",
    "        #print \"test\"\n",
    "\taccu_percent_test = compute_accuracy(read_data_features_test,read_data_labels_test,model_svc)*100;\n",
    "\ttrain_err = compute_error(read_data_features_train,read_data_labels_train,model_svc);\n",
    "\ttest_err = compute_error(read_data_features_test,read_data_labels_test,model_svc);\n",
    "\tfile_created1.write(\"%f %f %f \\n\" %(accu_percent_train,accu_percent_test,input_percent[pri]))\n",
    "\tfile_created2.write(\"%f %f %f \\n\" %(train_err,test_err,input_percent[pri]))\n",
    "        conf_mat = compute_confusion_matrix(read_data_features_train,read_data_labels_train,model_svc);\n",
    "        print conf_mat\n",
    "        conf_mat1 = compute_confusion_matrix(read_data_features_test,read_data_labels_test,model_svc);\n",
    "        print conf_mat1\n",
    "file_created1.close()\n",
    "file_created2.close()"
   ]
  },
  {
   "cell_type": "code",
   "execution_count": null,
   "metadata": {},
   "outputs": [],
   "source": [
    "#conf_mat = compute_confusion_matrix(read_data_features_train,read_data_labels_train,model_svc);\n",
    "#print conf_mat\n",
    "#conf_mat1 = compute_confusion_matrix(read_data_features_test,read_data_labels_test,model_svc);\n",
    "#print conf_mat1\n",
    "#compute_plot(\"Generated_accuracy_table.dat\");\n",
    "#compute_plot(\"Generated_error_table.dat\");"
   ]
  },
  {
   "cell_type": "code",
   "execution_count": null,
   "metadata": {},
   "outputs": [],
   "source": []
  }
 ],
 "metadata": {
  "kernelspec": {
   "display_name": "Python 3",
   "language": "python",
   "name": "python3"
  },
  "language_info": {
   "codemirror_mode": {
    "name": "ipython",
    "version": 3
   },
   "file_extension": ".py",
   "mimetype": "text/x-python",
   "name": "python",
   "nbconvert_exporter": "python",
   "pygments_lexer": "ipython3",
   "version": "3.6.6"
  }
 },
 "nbformat": 4,
 "nbformat_minor": 2
}
