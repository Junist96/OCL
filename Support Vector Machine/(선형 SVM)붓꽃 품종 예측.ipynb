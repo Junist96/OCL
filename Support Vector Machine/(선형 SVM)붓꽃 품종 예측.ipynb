{
 "cells": [
  {
   "cell_type": "code",
   "execution_count": 1,
   "metadata": {},
   "outputs": [],
   "source": [
    "#라이브러리 로드\n",
    "import matplotlib.pyplot as plt\n",
    "import numpy as np\n",
    "import tensorflow as tf\n",
    "from sklearn import datasets\n",
    "from tensorflow.python.framework import ops\n",
    "ops.reset_default_graph()"
   ]
  },
  {
   "cell_type": "code",
   "execution_count": 2,
   "metadata": {},
   "outputs": [],
   "source": [
    "np.random.seed(42)\n",
    "tf.set_random_seed(42)\n",
    "sess = tf.Session()\n",
    "\n",
    "iris = datasets.load_iris()\n",
    "\n",
    "x_vals = np.array([[x[0], x[3]] for x in iris.data])\n",
    "y_vals = np.array([1 if y == 0 else -1 for y in iris.target])"
   ]
  },
  {
   "cell_type": "code",
   "execution_count": 3,
   "metadata": {},
   "outputs": [],
   "source": [
    "#데이터 셋을 학습 셋과 테스트 셋으로 분할합니다.\n",
    "#학습 셋, 테스트 셋 모두 정확도를 평가 할 것입니다.\n",
    "\n",
    "#학습하기 위해 분할 한 데이터 셋\n",
    "train_indices = np.random.choice(len(x_vals), round(len(x_vals) * 0.8), replace = False)\n",
    "\n",
    "#테스트하기 위해 분할 한 데이터 셋\n",
    "test_indices = np.array(list(set(range(len(x_vals))) - set(train_indices)))"
   ]
  },
  {
   "cell_type": "code",
   "execution_count": 4,
   "metadata": {},
   "outputs": [],
   "source": [
    "x_vals_train = x_vals[train_indices]\n",
    "x_vals_test = x_vals[test_indices]\n",
    "\n",
    "y_vals_train = y_vals[train_indices]\n",
    "y_vals_test = y_vals[test_indices]"
   ]
  },
  {
   "cell_type": "code",
   "execution_count": 5,
   "metadata": {},
   "outputs": [],
   "source": [
    "#일괄 작업 크기를 설정하고 플레이스 홀더, 모델 변수를 선언합니다.\n",
    "\n",
    "#이 작업은 SVM 알고리즘 수렴에 도움이 되게 일괄 작업 크기를 크게 설정하였습니다.\n",
    "#일괄 작업 크기가 작으면 최대 마진 직선이 조금씩 움직이게 되빈다.\n",
    "#수렴이 진행됨에 따라서 학습률의 크기를 줄이는 것이 이상적이긴 하지만 현재로서는 이정도로 충분합니다.\n",
    "batch_size = 100\n",
    "\n",
    "x_data = tf.placeholder(shape = [None, 2], dtype = tf.float32)\n",
    "y_target = tf.placeholder(shape = [None, 1], dtype = tf.float32)\n",
    "\n",
    "#꽃받침 길이와 꽃잎폭 두 가지 예상변수가 있기 때문에 변수는 A는 2x1 형태를 갖고 있습니다.\n",
    "A = tf.Variable(tf.random_normal(shape = [2, 1]))\n",
    "b = tf.Variable(tf.random_normal(shape = [1, 1]))"
   ]
  },
  {
   "cell_type": "code",
   "execution_count": 6,
   "metadata": {},
   "outputs": [],
   "source": [
    "#모델 출력 값을 선언하는 부분입니다.\n",
    "#잘 분류 된 경우에는 대상 값이 setosa일 떄는 1보다 크거나 같은 값이 출력됩니다.\n",
    "#대상 값이 setosa가 아닐 경우 -1보다 작거나 같은 값이 출력 될 것입니다.\n",
    "\n",
    "model_output = tf.subtract(tf.matmul(x_data, A), b)"
   ]
  },
  {
   "cell_type": "code",
   "execution_count": 7,
   "metadata": {},
   "outputs": [],
   "source": [
    "#최대 마진 비용 함수에 필요한 구성 요소들을 선언하는 부분입니다.\n",
    "\n",
    "#벡터의 l2노름을 계산하는 함수를 선언합니다.\n",
    "l2_norm = tf.reduce_sum(tf.square(A))\n",
    "\n",
    "#마진 매개변수 알파를 추가합니다.\n",
    "alpha = tf.constant([0.01])\n",
    "\n",
    "#두 항을 더하는 분류 비용 함수를 선언합니다\n",
    "classification_term = tf.reduce_mean(tf.maximum(0., tf.subtract(1., tf. multiply(model_output, y_target))))\n",
    "\n",
    "loss = tf.add(classification_term, tf.multiply(alpha, l2_norm))"
   ]
  },
  {
   "cell_type": "code",
   "execution_count": 8,
   "metadata": {},
   "outputs": [],
   "source": [
    "#학습 셋과 테스트 셋을 대상으로 정확도를 측정하기 위해 예측 함수와 정확도 함수를 선언합니다\n",
    "prediction = tf.sign(model_output)\n",
    "accuracy = tf.reduce_mean(tf.cast(tf.equal(prediction, y_target), tf.float32))"
   ]
  },
  {
   "cell_type": "code",
   "execution_count": 9,
   "metadata": {},
   "outputs": [],
   "source": [
    "#최적화 함수를 선언하고 모델 변수를 초기화 해줍니다.\n",
    "my_opt = tf.train.GradientDescentOptimizer(0.01)\n",
    "train_step = my_opt.minimize(loss)\n",
    "\n",
    "init = tf.global_variables_initializer()\n",
    "\n",
    "sess.run(init)"
   ]
  },
  {
   "cell_type": "code",
   "execution_count": 10,
   "metadata": {},
   "outputs": [
    {
     "name": "stdout",
     "output_type": "stream",
     "text": [
      "Step #100 A = [[ 0.38866633]\n",
      " [-2.6225927 ]], b = [[0.18244827]]\n",
      "Loss = [0.11478747]\n",
      "Step #200 A = [[ 0.39312914]\n",
      " [-2.6143656 ]], b = [[0.17334823]]\n",
      "Loss = [0.10606352]\n",
      "Step #300 A = [[ 0.3908235]\n",
      " [-2.607217 ]], b = [[0.1650482]]\n",
      "Loss = [0.11641035]\n",
      "Step #400 A = [[ 0.38602635]\n",
      " [-2.601627  ]], b = [[0.15714815]]\n",
      "Loss = [0.08565885]\n",
      "Step #500 A = [[ 0.3884642]\n",
      " [-2.5951316]], b = [[0.14774813]]\n",
      "Loss = [0.10671981]\n"
     ]
    }
   ],
   "source": [
    "#학습 루프를 실행하는 부분입니다.\n",
    "loss_vec = []\n",
    "train_accuracy = []\n",
    "test_accuracy = []\n",
    "\n",
    "#학습 도중에 비용 함수 값과 더불어 학습 셋과 테스트 셋 양쪽의 정확도를 기록합니다.\n",
    "for i in range(500):\n",
    "    rand_index = np.random.choice(len(x_vals_train), size=batch_size)\n",
    "    rand_x = x_vals_train[rand_index]\n",
    "    rand_y = np.transpose([y_vals_train[rand_index]])\n",
    "    sess.run(train_step, feed_dict={x_data: rand_x, y_target: rand_y})\n",
    "\n",
    "    temp_loss = sess.run(loss, feed_dict={x_data: rand_x, y_target: rand_y})\n",
    "    loss_vec.append(temp_loss)\n",
    "\n",
    "    train_acc_temp = sess.run(accuracy, feed_dict={\n",
    "        x_data: x_vals_train,\n",
    "        y_target: np.transpose([y_vals_train])})\n",
    "    train_accuracy.append(train_acc_temp)\n",
    "\n",
    "    test_acc_temp = sess.run(accuracy, feed_dict={\n",
    "        x_data: x_vals_test,\n",
    "        y_target: np.transpose([y_vals_test])})\n",
    "    test_accuracy.append(test_acc_temp)\n",
    "\n",
    "    if (i + 1) % 100 == 0:\n",
    "        print('Step #{} A = {}, b = {}'.format(\n",
    "            str(i+1),\n",
    "            str(sess.run(A)),\n",
    "            str(sess.run(b))\n",
    "        ))\n",
    "        print('Loss = ' + str(temp_loss))"
   ]
  },
  {
   "cell_type": "code",
   "execution_count": 11,
   "metadata": {},
   "outputs": [],
   "source": [
    "#결과를 그림으로 나타내기 위해서 계수를 추출하는 작업입니다.\n",
    "\n",
    "#요인 추출을 하기 위한 작업입니다.\n",
    "[[a1], [a2]] = sess.run(A)\n",
    "[[b]] = sess.run(b)\n",
    "\n",
    "slope = -a2/a1\n",
    "\n",
    "y_intercept = b/a1\n",
    "\n",
    "#x1과 x2값 추출\n",
    "x1_vals = [d[1] for d in x_vals]\n",
    "\n",
    "#최적화가 된 선을 얻기 위한 작업입니다.\n",
    "best_fit = []\n",
    "\n",
    "for i in x1_vals:\n",
    "    best_fit.append(slope*i+y_intercept)\n",
    "\n",
    "#I와 setosa로 분류하는 작업\n",
    "setosa_x = [d[1] for i, d in enumerate(x_vals) if y_vals[i] == 1]\n",
    "setosa_y = [d[0] for i, d in enumerate(x_vals) if y_vals[i] == 1]\n",
    "\n",
    "not_setosa_x = [d[1] for i, d in enumerate(x_vals) if y_vals[i] == -1]\n",
    "not_setosa_y = [d[0] for i, d in enumerate(x_vals) if y_vals[i] == -1]"
   ]
  },
  {
   "cell_type": "code",
   "execution_count": 12,
   "metadata": {},
   "outputs": [
    {
     "data": {
      "image/png": "[encoded data removed]",
      "text/plain": [
       "<Figure size 432x288 with 1 Axes>"
      ]
     },
     "metadata": {},
     "output_type": "display_data"
    }
   ],
   "source": [
    "#선현 구분자 및 정확도, 비용 함수를 그래프로 나타내는 작업입니다.\n",
    "%matplotlib inline\n",
    "\n",
    "#두 분류에 대한 선형 SVM 최적화 최종 결과 그래프\n",
    "plt.plot(setosa_x, setosa_y, 'o', label='I. setosa')\n",
    "plt.plot(not_setosa_x, not_setosa_y, 'x', label='Non-setosa')\n",
    "plt.plot(x1_vals, best_fit, 'r-', label='Linear Separator', linewidth=3)\n",
    "plt.ylim([0, 10])\n",
    "plt.legend(loc='lower right')\n",
    "plt.title('Sepal Length vs Pedal Width')\n",
    "plt.xlabel('Pedal Width')\n",
    "plt.ylabel('Sepal Length')\n",
    "plt.show()"
   ]
  },
  {
   "cell_type": "code",
   "execution_count": 13,
   "metadata": {},
   "outputs": [
    {
     "data": {
      "image/png": "[encoded data removed]",
      "text/plain": [
       "<Figure size 432x288 with 1 Axes>"
      ]
     },
     "metadata": {},
     "output_type": "display_data"
    }
   ],
   "source": [
    "#학습 진행 중인 모델의 테스트 셋 및 학습 셋에 대한 정확도를 출력합니다.\n",
    "#두 분류가 선형적으로 구분 가능하기 때문에 정확도는 100%에 도달하게 됩니다.\n",
    "plt.plot(train_accuracy, 'k-', label='Training Accuracy')\n",
    "plt.plot(test_accuracy, 'r--', label='Test Accuracy')\n",
    "plt.title('Train and Test Set Accuracies')\n",
    "plt.xlabel('Generation')\n",
    "plt.ylabel('Accuracy')\n",
    "plt.legend(loc='lower right')\n",
    "plt.show()"
   ]
  },
  {
   "cell_type": "code",
   "execution_count": 14,
   "metadata": {},
   "outputs": [
    {
     "data": {
      "image/png": "[encoded data removed]",
      "text/plain": [
       "<Figure size 432x288 with 1 Axes>"
      ]
     },
     "metadata": {},
     "output_type": "display_data"
    }
   ],
   "source": [
    "#500회 학습 과정 중의 최대 마진 비용 함수 값을 그래프로 표현하는 과정입니다.\n",
    "plt.plot(loss_vec, 'k-')\n",
    "plt.title('Loss per Generation')\n",
    "plt.xlabel('Generation')\n",
    "plt.ylabel('Loss')\n",
    "plt.show()"
   ]
  },
  {
   "cell_type": "code",
   "execution_count": null,
   "metadata": {},
   "outputs": [],
   "source": []
  }
 ],
 "metadata": {
  "kernelspec": {
   "display_name": "Python 3",
   "language": "python",
   "name": "python3"
  },
  "language_info": {
   "codemirror_mode": {
    "name": "ipython",
    "version": 3
   },
   "file_extension": ".py",
   "mimetype": "text/x-python",
   "name": "python",
   "nbconvert_exporter": "python",
   "pygments_lexer": "ipython3",
   "version": "3.6.6"
  }
 },
 "nbformat": 4,
 "nbformat_minor": 2
}
