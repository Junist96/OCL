{
 "cells": [
  {
   "cell_type": "code",
   "execution_count": 1,
   "metadata": {},
   "outputs": [],
   "source": [
    "#라이브러리 로드\n",
    "import matplotlib.pyplot as plt\n",
    "import numpy as np\n",
    "import tensorflow as tf\n",
    "from sklearn import datasets"
   ]
  },
  {
   "cell_type": "code",
   "execution_count": 2,
   "metadata": {},
   "outputs": [],
   "source": [
    "sess = tf.Session()\n",
    "iris = datasets.load_iris()\n",
    "\n",
    "#꽃 받침 길이와 꽃 잎 폭에 해당하는 데이터 셋의 첫 번쨰, 네번째 변수를로딩한다.\n",
    "x_vals = np.array([x[0], x[3]] for x in iris.data)\n",
    "\n",
    "#Setosa종일 때는 값이 1이고 그 외의 경우에는 값이 -1이 되게 대상 값도 로드합니다.\n",
    "x_vals = np.array([1 if y== 0 else -1 for y in iris.target])\n",
    "y_vals = np.array([1 if y== 0 else -1 for y in iris.target])"
   ]
  },
  {
   "cell_type": "code",
   "execution_count": 3,
   "metadata": {},
   "outputs": [],
   "source": [
    "#데이터 셋을 학습 셋과 테스트 셋으로 분할합니다.\n",
    "#학습 셋, 테스트 셋 모두 정확도를 평가 할 것입니다.\n",
    "\n",
    "#학습하기 위해 분할 한 데이터 셋\n",
    "train_indices = np.random.choice(len(x_vals), round(len(x_vals) * 0.8), replace = False)\n",
    "\n",
    "#테스트하기 위해 분할 한 데이터 셋\n",
    "test_indices = np.array(list(set(range(len(x_vals))) - set(train_indices)))"
   ]
  },
  {
   "cell_type": "code",
   "execution_count": 4,
   "metadata": {},
   "outputs": [],
   "source": [
    "x_vals_train = x_vals[train_indices]\n",
    "x_vals_test = x_vals[test_indices]\n",
    "\n",
    "y_vals_train = y_vals[train_indices]\n",
    "y_vals_test = y_vals[test_indices]"
   ]
  },
  {
   "cell_type": "code",
   "execution_count": 9,
   "metadata": {},
   "outputs": [],
   "source": [
    "#일괄 작업 크기를 설정하고 플레이스 홀더, 모델 변수를 선언합니다.\n",
    "batch_size = 100\n",
    "\n",
    "x_data = tf.placeholder(shape = [None, 2], dtype = tf.float32)\n",
    "y_target = tf.placeholder(shape=[None, 1], dtype = tf.float32)\n",
    "\n",
    "A = tf.Variable(tf.random_normal(shape = [2, 1]))\n",
    "b = tf.Variable(tf.random_normal(shape = [1, 1]))"
   ]
  },
  {
   "cell_type": "code",
   "execution_count": 10,
   "metadata": {},
   "outputs": [],
   "source": [
    "model_output = tf.subtract(tf.matmul(x_data, A), b)"
   ]
  },
  {
   "cell_type": "code",
   "execution_count": 11,
   "metadata": {},
   "outputs": [],
   "source": [
    "\n",
    "l2_norm = tf.reduce_sum(tf.square(A))\n",
    "\n",
    "alpha = tf.constant([0.01])\n",
    "\n",
    "classification_term = tf.reduce_mean(tf.maximum(0., tf.subtract(1., tf. multiply(model_output, y_target))))\n",
    "\n",
    "loss = tf.add(classification_term, tf.multiply(alpha, l2_norm))"
   ]
  },
  {
   "cell_type": "code",
   "execution_count": 12,
   "metadata": {},
   "outputs": [],
   "source": [
    "#학습 셋과 테스트 셋을 대상으로 정확도를 측정하기 위해 예측 함수와 정확도 함수를 선언합니다\n",
    "prediction = tf.sign(model_output)\n",
    "accuracy = tf.reduce_mean(tf.cast(tf.equal(prediction, y_target), tf.float32))"
   ]
  },
  {
   "cell_type": "code",
   "execution_count": 17,
   "metadata": {},
   "outputs": [],
   "source": [
    "#최적화 함수를 선언하고 모델 변수를 초기화 해줍니다.\n",
    "my_opt = tf.train.GradientDescentOptimizer(0.01)\n",
    "train_stop = my_opt.minimize(loss)\n",
    "\n",
    "init = tf.global_variables_initializer()\n",
    "\n",
    "sess.run(init)"
   ]
  },
  {
   "cell_type": "code",
   "execution_count": null,
   "metadata": {},
   "outputs": [],
   "source": []
  }
 ],
 "metadata": {
  "kernelspec": {
   "display_name": "Python 3",
   "language": "python",
   "name": "python3"
  },
  "language_info": {
   "codemirror_mode": {
    "name": "ipython",
    "version": 3
   },
   "file_extension": ".py",
   "mimetype": "text/x-python",
   "name": "python",
   "nbconvert_exporter": "python",
   "pygments_lexer": "ipython3",
   "version": "3.6.6"
  }
 },
 "nbformat": 4,
 "nbformat_minor": 2
}
