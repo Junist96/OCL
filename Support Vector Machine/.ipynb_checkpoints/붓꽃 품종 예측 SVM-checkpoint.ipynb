{
 "cells": [
  {
   "cell_type": "code",
   "execution_count": 1,
   "metadata": {},
   "outputs": [],
   "source": [
    "#라이브러리 로드\n",
    "import matplotlib.pyplot as plt\n",
    "import numpy as np\n",
    "import tensorflow as tf\n",
    "from sklearn import datasets"
   ]
  },
  {
   "cell_type": "code",
   "execution_count": 2,
   "metadata": {},
   "outputs": [],
   "source": [
    "sess = tf.Session()\n",
    "iris = datasets.load_iris()\n",
    "\n",
    "#꽃 받침 길이와 꽃 잎 폭에 해당하는 데이터 셋의 첫 번쨰, 네번째 변수를로딩한다.\n",
    "x_vals = np.array([x[0], x[3]] for x in iris.data)\n",
    "\n",
    "#Setosa종일 때는 값이 1이고 그 외의 경우에는 값이 -1이 되게 대상 값도 로드합니다.\n",
    "x_vals = np.array([1 if y== 0 else -1 for y in iris.target])"
   ]
  },
  {
   "cell_type": "code",
   "execution_count": 3,
   "metadata": {},
   "outputs": [],
   "source": [
    "#데이터 셋을 학습 셋과 테스트 셋으로 분할합니다.\n",
    "#학습 셋, 테스트 셋 모두 정확도를 평가 할 것입니다.\n",
    "\n",
    "#학습하기 위해 분할 한 데이터 셋\n",
    "train_indices = np.random.choice(len(x_vals),\n",
    "                                round(len(x_vals)*0.8),\n",
    "                                replace = False)\n",
    "#테스트하기 위해 분할 한 데이터 셋\n",
    "test_indices = np.array(list(set(range(len(x_vals)))-\n",
    "                            set(train_indices)))"
   ]
  },
  {
   "cell_type": "code",
   "execution_count": null,
   "metadata": {},
   "outputs": [],
   "source": [
    "x_vals_train = x_vals[train_indices]\n",
    "x_vals_test = x_vals[test_indices]\n",
    "\n",
    "y_vals_train = y_vals[train_indices]\n",
    "y_vals_test = y_vals[test_indices]"
   ]
  }
 ],
 "metadata": {
  "kernelspec": {
   "display_name": "Python 3",
   "language": "python",
   "name": "python3"
  },
  "language_info": {
   "codemirror_mode": {
    "name": "ipython",
    "version": 3
   },
   "file_extension": ".py",
   "mimetype": "text/x-python",
   "name": "python",
   "nbconvert_exporter": "python",
   "pygments_lexer": "ipython3",
   "version": "3.6.6"
  }
 },
 "nbformat": 4,
 "nbformat_minor": 2
}
