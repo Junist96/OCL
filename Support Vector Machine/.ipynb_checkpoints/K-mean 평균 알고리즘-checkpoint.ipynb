{
 "cells": [
  {
   "cell_type": "code",
   "execution_count": 2,
   "metadata": {},
   "outputs": [],
   "source": [
    "import pandas as pd\n",
    "import tensorflow as tf\n",
    "import seaborn as sns"
   ]
  },
  {
   "cell_type": "code",
   "execution_count": null,
   "metadata": {},
   "outputs": [],
   "source": [
    "#1000개의 데이터를 난수로 생성합니다.\n",
    "num_vectors = 1000\n",
    "\n",
    "#4개의 클러스터를 생성합니다.\n",
    "num_clusters = 4\n",
    "num_steps = 100\n",
    "vector_values = []\n",
    "\n",
    "for i in range(num_vectors):\n",
    "  if np.random.random() > 0.5:\n",
    "    vector_values.append([np.random.normal(0.5, 0.6),\n",
    "                          np.random.normal(0.3, 0.9)])\n",
    "  else:\n",
    "    vector_values.append([np.random.normal(2.5, 0.4),\n",
    "                         np.random.normal(0.8, 0.5)])"
   ]
  }
 ],
 "metadata": {
  "kernelspec": {
   "display_name": "Python 3",
   "language": "python",
   "name": "python3"
  },
  "language_info": {
   "codemirror_mode": {
    "name": "ipython",
    "version": 3
   },
   "file_extension": ".py",
   "mimetype": "text/x-python",
   "name": "python",
   "nbconvert_exporter": "python",
   "pygments_lexer": "ipython3",
   "version": "3.6.6"
  }
 },
 "nbformat": 4,
 "nbformat_minor": 2
}
