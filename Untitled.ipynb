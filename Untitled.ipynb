{
 "cells": [
  {
   "cell_type": "code",
   "execution_count": 1,
   "metadata": {},
   "outputs": [],
   "source": [
    "import numpy as n\n",
    "from sklearn import svm\n",
    "from sklearn.metrics import accuracy_score\n",
    "from sklearn.metrics import confusion_matrix\n",
    "import matplotlib.pyplot as graph"
   ]
  },
  {
   "cell_type": "code",
   "execution_count": 2,
   "metadata": {},
   "outputs": [],
   "source": [
    "# Function to read the features from file\n",
    "def read_features(par_filename):\n",
    "    vl = []\n",
    "    with open(par_filename,\"r\") as file_lines:\n",
    "#features = [[float(i) for i in line.split()] for line in file_lines]\n",
    "        for line in file_lines:\n",
    "\t\t\tvl.append(line.split())\n",
    "\tfile_lines.close()\n",
    "\tfor r in vl:\n",
    "\t\tdel r[12]\n",
    "\treturn vl;"
   ]
  },
  {
   "cell_type": "code",
   "execution_count": 3,
   "metadata": {},
   "outputs": [],
   "source": [
    "# Function to read the lables from file\n",
    "def read_labels(par_filename):\n",
    "\tvl = []\n",
    "\twith open(par_filename,\"r\") as file_lines:\n",
    "\t\tfor line in file_lines:\n",
    "\t\t\tvl.append(line.split())\n",
    "\tfile_lines.close()\n",
    "\tll = []\n",
    "\tfor r in vl:\n",
    "\t\tll.append(r[12])\n",
    "\treturn ll;"
   ]
  },
  {
   "cell_type": "code",
   "execution_count": 4,
   "metadata": {},
   "outputs": [],
   "source": [
    "# Function to compute the classification using SVM\n",
    "def compute_SVC(train_f,train_l):\n",
    "\tC=1.0\n",
    "\tcache_size=200\n",
    "\tclass_weight=None\n",
    "\tcoef0=0.0\n",
    "\tdecision_function_shape=None\n",
    "\tdegree=3\n",
    "\tgamma='auto'\n",
    "\tkernel='rbf'\n",
    "\tmax_iter=-1\n",
    "\tprobability=False\n",
    "\trandom_state=None\n",
    "\tshrinking=True\n",
    "\ttol=0.001\n",
    "\tverbose=False\n",
    "\tc = svm.SVC(kernel='linear')\n",
    "\tc.fit(train_f,train_l)\n",
    "\treturn c;"
   ]
  },
  {
   "cell_type": "code",
   "execution_count": 7,
   "metadata": {},
   "outputs": [],
   "source": [
    "# Function to calculate the accuracy\n",
    "def compute_accuracy(test_f,test_l,c):\n",
    "    pred = c.predict(test_f)\n",
    "    print(pred)\n",
    "    \n",
    "    pred_accu = accuracy_score(test_l,pred)\n",
    "    \n",
    "    return pred_accu;"
   ]
  },
  {
   "cell_type": "code",
   "execution_count": 8,
   "metadata": {},
   "outputs": [],
   "source": [
    "# Function to compute the confusion matrix\n",
    "def compute_confusion_matrix(test_f,test_l,c):\n",
    "\tpred = c.predict(test_f)\n",
    "\tx = confusion_matrix(test_l,pred)\n",
    "\treturn x;"
   ]
  },
  {
   "cell_type": "code",
   "execution_count": 9,
   "metadata": {},
   "outputs": [
    {
     "ename": "SyntaxError",
     "evalue": "invalid syntax (<ipython-input-9-c8aec97ce0c9>, line 6)",
     "output_type": "error",
     "traceback": [
      "\u001b[1;36m  File \u001b[1;32m\"<ipython-input-9-c8aec97ce0c9>\"\u001b[1;36m, line \u001b[1;32m6\u001b[0m\n\u001b[1;33m    print \"Accuracy obtained over the whole training set is %0.6f %% .\" % (accu_percent)\u001b[0m\n\u001b[1;37m                                                                      ^\u001b[0m\n\u001b[1;31mSyntaxError\u001b[0m\u001b[1;31m:\u001b[0m invalid syntax\n"
     ]
    }
   ],
   "source": [
    "# Starting of the flow of program\n",
    "read_data_features_train = read_features(\"plrx.txt\");\n",
    "read_data_labels_train = read_labels(\"plrx.txt\");\n",
    "model_svc = compute_SVC(read_data_features_train,read_data_labels_train);\n",
    "accu_percent = compute_accuracy(read_data_features_train,read_data_labels_train,model_svc)*100;\n",
    "print \"Accuracy obtained over the whole training set is %0.6f %% .\" % (accu_percent)\n",
    "#conf_mat = compute_confusion_matrix(read_data_features_train,read_data_labels_train,model_svc);\n",
    "#print conf_mat"
   ]
  },
  {
   "cell_type": "code",
   "execution_count": null,
   "metadata": {},
   "outputs": [],
   "source": []
  }
 ],
 "metadata": {
  "kernelspec": {
   "display_name": "Python 3",
   "language": "python",
   "name": "python3"
  },
  "language_info": {
   "codemirror_mode": {
    "name": "ipython",
    "version": 3
   },
   "file_extension": ".py",
   "mimetype": "text/x-python",
   "name": "python",
   "nbconvert_exporter": "python",
   "pygments_lexer": "ipython3",
   "version": "3.6.6"
  }
 },
 "nbformat": 4,
 "nbformat_minor": 2
}
