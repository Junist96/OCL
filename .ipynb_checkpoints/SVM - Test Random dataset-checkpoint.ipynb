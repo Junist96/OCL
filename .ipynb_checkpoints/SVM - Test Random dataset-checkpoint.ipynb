{
 "cells": [
  {
   "cell_type": "code",
   "execution_count": 1,
   "metadata": {},
   "outputs": [],
   "source": [
    "import random"
   ]
  },
  {
   "cell_type": "code",
   "execution_count": 2,
   "metadata": {},
   "outputs": [],
   "source": [
    "#BMI를 계산해서 레이블을 리턴하는 함수\n",
    "\n",
    "def dcalc_bmi(h, w):\n",
    "        bmi = w / (h / 100) ** 2\n",
    "        if bmi < 18.5: return \"thin\"\n",
    "        if bmi < 25: return \"normal\"\n",
    "        return \"fat\""
   ]
  },
  {
   "cell_type": "code",
   "execution_count": 5,
   "metadata": {},
   "outputs": [
    {
     "data": {
      "text/plain": [
       "23"
      ]
     },
     "execution_count": 5,
     "metadata": {},
     "output_type": "execute_result"
    }
   ],
   "source": [
    "#출력 파일 준비하기\n",
    "\n",
    "fp = open(\"bmi.csv\", \"w\", encoding = \"utf-8\")\n",
    "fp.write(\"height, weight, label\\r\\n\")"
   ]
  },
  {
   "cell_type": "code",
   "execution_count": 6,
   "metadata": {},
   "outputs": [],
   "source": [
    "cnt = {\"thin\":0, \"normal\":0, \"fat\":0}\n"
   ]
  },
  {
   "cell_type": "code",
   "execution_count": null,
   "metadata": {},
   "outputs": [],
   "source": []
  }
 ],
 "metadata": {
  "kernelspec": {
   "display_name": "Python 3",
   "language": "python",
   "name": "python3"
  },
  "language_info": {
   "codemirror_mode": {
    "name": "ipython",
    "version": 3
   },
   "file_extension": ".py",
   "mimetype": "text/x-python",
   "name": "python",
   "nbconvert_exporter": "python",
   "pygments_lexer": "ipython3",
   "version": "3.6.6"
  }
 },
 "nbformat": 4,
 "nbformat_minor": 2
}
